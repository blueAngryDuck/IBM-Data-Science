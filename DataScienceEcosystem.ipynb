{
 "cells": [
  {
   "cell_type": "markdown",
   "id": "c49482ea-9e10-46bc-b9b4-afffd7b7f6f1",
   "metadata": {},
   "source": [
    "# Data Science Tools and Ecosystem"
   ]
  },
  {
   "cell_type": "markdown",
   "id": "559056d1-b478-4182-a21f-01eeb1060960",
   "metadata": {},
   "source": [
    "In this notebook, Data Science Tools and Ecosystem are summarized."
   ]
  },
  {
   "cell_type": "markdown",
   "id": "345f6630-9850-4f55-ac45-7de284d86f42",
   "metadata": {},
   "source": [
    "Objectives:\n",
    "* List of the popular languages that Data Scientists use\n",
    "* List of the commonly used libraries used by Data Scientists\n",
    "* List of Data Science Tools\n",
    "* Examples of evaluating arithmetic expressions in Python"
   ]
  },
  {
   "cell_type": "code",
   "execution_count": 7,
   "id": "6db73a5a-782b-4385-a13b-10b0f50efeb7",
   "metadata": {},
   "outputs": [
    {
     "name": "stdout",
     "output_type": "stream",
     "text": [
      "Some of the popular languages that Data Scientists use are:\n",
      "1 SQL\n",
      "2 Python\n",
      "3 R\n"
     ]
    }
   ],
   "source": [
    "print(\"Some of the popular languages that Data Scientists use are:\")\n",
    "mylist = [\"SQL\", \"Python\", \"R\"]\n",
    "for number, language in enumerate(mylist):\n",
    "    print(number +1, language)"
   ]
  },
  {
   "cell_type": "markdown",
   "id": "972b58f1-9000-4d30-a0a6-0a754f0c2919",
   "metadata": {},
   "source": [
    "Some of the commonly used libraries used by Data Scientists include:\n",
    "1. TensorFlow\n",
    "2. NumPy\n",
    "3. SciPy\n",
    "4. Pandas\n",
    "5. Matplotlib"
   ]
  },
  {
   "cell_type": "markdown",
   "id": "44377cc5-fc3a-4ccb-8214-0516951719de",
   "metadata": {},
   "source": [
    "| Data Science Tools |\n",
    "---------------------\n",
    "| Jupyter Notebooks |\n",
    "| JupyterLab |\n",
    "| RStudio IDE |\n",
    "| Git |\n",
    "| GitHub |\n",
    "| Watson Studio |"
   ]
  },
  {
   "cell_type": "markdown",
   "id": "c9e9355c-2806-4ec6-9a90-1664dbed1de5",
   "metadata": {},
   "source": [
    "### Below are a few examples of evaluating arithmetic expressions in Python"
   ]
  },
  {
   "cell_type": "code",
   "execution_count": 17,
   "id": "d4549ca9-7d01-47fb-bb5b-5fd49ac928ac",
   "metadata": {},
   "outputs": [
    {
     "data": {
      "text/plain": [
       "17"
      ]
     },
     "execution_count": 17,
     "metadata": {},
     "output_type": "execute_result"
    }
   ],
   "source": [
    "# This a simple arithmetic expression to mutiply then add integers:\n",
    "(3*4)+5"
   ]
  },
  {
   "cell_type": "code",
   "execution_count": 20,
   "id": "e985b508-2336-47fb-bb4d-35f3206e35f7",
   "metadata": {},
   "outputs": [
    {
     "name": "stdout",
     "output_type": "stream",
     "text": [
      "200 minutes = 3.3333333333333335 hours\n"
     ]
    }
   ],
   "source": [
    "# This will convert 200 minutes to hours by diving by 60\n",
    "x = 200\n",
    "y = 60\n",
    "z = 200/60\n",
    "print (x, \"minutes\", \"=\", z, \"hours\")"
   ]
  },
  {
   "cell_type": "markdown",
   "id": "2030bc65-8448-4897-ade8-af52a21a314a",
   "metadata": {},
   "source": [
    "## Author\n",
    "Inna Dyakonova"
   ]
  },
  {
   "cell_type": "code",
   "execution_count": null,
   "id": "e46a6f3d-8d3c-4718-b9fd-54a37b2a9bcf",
   "metadata": {},
   "outputs": [],
   "source": []
  }
 ],
 "metadata": {
  "kernelspec": {
   "display_name": "Python 3 (ipykernel)",
   "language": "python",
   "name": "python3"
  },
  "language_info": {
   "codemirror_mode": {
    "name": "ipython",
    "version": 3
   },
   "file_extension": ".py",
   "mimetype": "text/x-python",
   "name": "python",
   "nbconvert_exporter": "python",
   "pygments_lexer": "ipython3",
   "version": "3.11.9"
  }
 },
 "nbformat": 4,
 "nbformat_minor": 5
}
